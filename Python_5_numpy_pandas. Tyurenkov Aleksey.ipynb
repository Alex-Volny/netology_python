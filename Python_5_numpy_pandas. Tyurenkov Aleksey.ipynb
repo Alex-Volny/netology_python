{
 "cells": [
  {
   "cell_type": "code",
   "execution_count": 3,
   "metadata": {},
   "outputs": [],
   "source": [
    "import numpy as np"
   ]
  },
  {
   "cell_type": "code",
   "execution_count": 17,
   "metadata": {},
   "outputs": [
    {
     "name": "stdout",
     "output_type": "stream",
     "text": [
      "Введите кол-во элементов numpy array: 10\n"
     ]
    },
    {
     "data": {
      "text/plain": [
       "array([9, 8, 7, 6, 5, 4, 3, 2, 1, 0])"
      ]
     },
     "execution_count": 17,
     "metadata": {},
     "output_type": "execute_result"
    }
   ],
   "source": [
    "# Задание 1\n",
    "\n",
    "# Создайте numpy array с элементами от числа N до 0 \n",
    "# (например, для N = 10 это будет array([9, 8, 7, 6, 5, 4, 3, 2, 1, 0])).\n",
    "\n",
    "N_q = int(input('Введите кол-во элементов numpy array: '))\n",
    "x = np.arange(N_q-1, -1, -1)\n",
    "x"
   ]
  },
  {
   "cell_type": "code",
   "execution_count": 44,
   "metadata": {},
   "outputs": [
    {
     "name": "stdout",
     "output_type": "stream",
     "text": [
      "Введите размерность матрицы: 10\n",
      "45\n"
     ]
    }
   ],
   "source": [
    "# Задание 2\n",
    "\n",
    "# Создайте диагональную матрицу с элементами от N до 0. \n",
    "# Посчитайте сумму ее значений на диагонали.\n",
    "\n",
    "N_q = int(input('Введите размерность матрицы: '))\n",
    "\n",
    "# Формируем диагональную матрицу, по убыванию на -1 начиная с N-1\n",
    "m_x = np.diag(np.arange(N_q-1, -1, -1), k=0)\n",
    "\n",
    "# Cумма значений матрицы на диагонали\n",
    "total = 0\n",
    "for i in range (0, N_q):\n",
    "       total += m_x[i][i]\n",
    "\n",
    "print (total)"
   ]
  },
  {
   "cell_type": "code",
   "execution_count": 41,
   "metadata": {},
   "outputs": [],
   "source": [
    "# Задание 3\n",
    "\n",
    "# Скачайте с сайта https://grouplens.org/datasets/movielens/ датасет любого размера. \n",
    "# Определите какому фильму было выставлено больше всего оценок 5.0.\n",
    "\n",
    "import pandas as pd"
   ]
  },
  {
   "cell_type": "code",
   "execution_count": 92,
   "metadata": {},
   "outputs": [
    {
     "name": "stdout",
     "output_type": "stream",
     "text": [
      "Фильм, c наибольшим кол-вом оценок 5.0:\n"
     ]
    },
    {
     "data": {
      "text/plain": [
       "318    153\n",
       "Name: movieId, dtype: int64"
      ]
     },
     "execution_count": 92,
     "metadata": {},
     "output_type": "execute_result"
    }
   ],
   "source": [
    "#\n",
    "# Задание 3. Вариант №1. Без названия фильма (фильтр + value_counts)\n",
    "#\n",
    "\n",
    "# Фильмы\n",
    "movies = pd.read_csv('ml-latest-small/movies.csv')\n",
    "\n",
    "# Рейтинги\n",
    "ratings = pd.read_csv('ml-latest-small/ratings.csv')\n",
    "\n",
    "# Отфильтруем только фильмы с рейтингом = 5.0\n",
    "f_rating = ratings[ ratings.rating ==5 ]\n",
    "\n",
    "# топ фильм по количеству оценок (с рейтингом = 5.0)\n",
    "print ('Фильм, c наибольшим кол-вом оценок 5.0:')\n",
    "f_rating['movieId'].value_counts().head(1)\n"
   ]
  },
  {
   "cell_type": "code",
   "execution_count": 93,
   "metadata": {},
   "outputs": [
    {
     "data": {
      "text/html": [
       "<div>\n",
       "<style scoped>\n",
       "    .dataframe tbody tr th:only-of-type {\n",
       "        vertical-align: middle;\n",
       "    }\n",
       "\n",
       "    .dataframe tbody tr th {\n",
       "        vertical-align: top;\n",
       "    }\n",
       "\n",
       "    .dataframe thead th {\n",
       "        text-align: right;\n",
       "    }\n",
       "</style>\n",
       "<table border=\"1\" class=\"dataframe\">\n",
       "  <thead>\n",
       "    <tr style=\"text-align: right;\">\n",
       "      <th></th>\n",
       "      <th>movieId</th>\n",
       "      <th>count_rating</th>\n",
       "      <th>title</th>\n",
       "      <th>genres</th>\n",
       "    </tr>\n",
       "  </thead>\n",
       "  <tbody>\n",
       "    <tr>\n",
       "      <th>0</th>\n",
       "      <td>318</td>\n",
       "      <td>153</td>\n",
       "      <td>Shawshank Redemption, The (1994)</td>\n",
       "      <td>Crime|Drama</td>\n",
       "    </tr>\n",
       "  </tbody>\n",
       "</table>\n",
       "</div>"
      ],
      "text/plain": [
       "   movieId  count_rating                             title       genres\n",
       "0      318           153  Shawshank Redemption, The (1994)  Crime|Drama"
      ]
     },
     "execution_count": 93,
     "metadata": {},
     "output_type": "execute_result"
    }
   ],
   "source": [
    "#\n",
    "# Задание 3. Вариант №2. С названием фильма (groupby + join)\n",
    "#\n",
    "\n",
    "# Фильмы\n",
    "movies = pd.read_csv('ml-latest-small/movies.csv')\n",
    "\n",
    "# Рейтинги\n",
    "ratings = pd.read_csv('ml-latest-small/ratings.csv')\n",
    "\n",
    "# Отфильтруем только фильмы с рейтингом = 5.0\n",
    "f_rating = ratings[ ratings.rating ==5 ]\n",
    "\n",
    "# Оставим только столбцы 'userId', 'movieId'\n",
    "f_rating = f_rating[['userId', 'movieId']]\n",
    "\n",
    "# топ фильмов по количеству оценок (с рейтингом = 5.0)\n",
    "top_rating = f_rating.groupby('movieId').count().sort_values('userId', ascending=False).head(1)\n",
    "\n",
    "# Подтащим название фильма (сделаем join фильмов и рейтингов по полю movieId)\n",
    "joined = top_rating.merge(movies, on='movieId', how='left')\n",
    "\n",
    "# Переименуем столбец на count_rating\n",
    "joined.rename(columns={'userId': 'count_rating'}).head()"
   ]
  },
  {
   "cell_type": "code",
   "execution_count": 118,
   "metadata": {},
   "outputs": [
    {
     "name": "stdout",
     "output_type": "stream",
     "text": [
      "Cуммарное потребление =  240580.0\n",
      "\n",
      "Cуммарное потребление по странам :\n"
     ]
    },
    {
     "data": {
      "text/plain": [
       "country\n",
       "Estonia       63440.0\n",
       "Latvia        54844.0\n",
       "Lithuania    122296.0\n",
       "Name: quantity, dtype: float64"
      ]
     },
     "execution_count": 118,
     "metadata": {},
     "output_type": "execute_result"
    }
   ],
   "source": [
    "# Задание 4\n",
    "\n",
    "# По данным файла power.csv посчитайте суммарное потребление sum(quantity) \n",
    "# стран Прибалтики (Латвия, Литва и Эстония) категорий 4, 12 и 21 за период с 2005 по 2010 года. \n",
    "# Не учитывайте в расчетах отрицательные значения quantity.\n",
    "\n",
    "# Обьем потребления по странам, годам и категориям \n",
    "data = pd.read_csv('power.csv')\n",
    "\n",
    "# Посмотрим уникальные страны в датафрейме\n",
    "# data.info()\n",
    "# data ['country'].unique().head()\n",
    "\n",
    "# Отфильтровать - категории(4, 12 и 21);  - время(период с 2005 по 2010 год);  -страны (Латвия, Литва и Эстония); -убрать отрицательные значения quantity \n",
    "filtered_data = data[ ( (data.category==4) | (data.category==12) | (data.category==21) ) &\n",
    "                      ( (data.year >= 2005) & (data.year <= 2010) ) &\n",
    "                      ( (data.country=='Latvia') | (data.country=='Lithuania') | (data.country=='Estonia') ) &\n",
    "                      ( (data.quantity > 0) )\n",
    "                    ]\n",
    "\n",
    "# Вычислить суммарное потребление sum(quantity) по датафрейму\n",
    "sum_total = filtered_data['quantity'].sum()\n",
    "print ('Cуммарное потребление = ', sum_total)\n",
    "print ()\n",
    "\n",
    "# Вычислить потребление по странам (сгруппировать по странам (country)) \n",
    "print ('Cуммарное потребление по странам :')\n",
    "filtered_data.groupby('country')['quantity'].agg('sum')\n"
   ]
  },
  {
   "cell_type": "code",
   "execution_count": 123,
   "metadata": {},
   "outputs": [
    {
     "name": "stdout",
     "output_type": "stream",
     "text": [
      "Решение системы уравнений: [x, y, z]\n"
     ]
    },
    {
     "data": {
      "text/plain": [
       "array([2.82857143, 4.94285714, 5.42857143])"
      ]
     },
     "execution_count": 123,
     "metadata": {},
     "output_type": "execute_result"
    }
   ],
   "source": [
    "# Задание 5\n",
    "# Решите систему уравнений:\n",
    "\n",
    "# - 4x + 2y + z = 4\n",
    "# -  x + 3y     = 12\n",
    "# -     5y + 4z = -3\n",
    "\n",
    "# Проставим недостающие коэф-ты в левой части уравнения\n",
    "# - 4x + 2y +  z  = 4\n",
    "# -  x + 3y + 0z = 12\n",
    "#   0x - 5y + 4z = -3\n",
    "\n",
    "# Коэффициенты при переменных в левой части уравнения\n",
    "a = np.array( [ [-4, 2, 1], [-1, 3, 0], [0, -5, 4] ] )\n",
    "\n",
    "# Значения в правой части уравнения\n",
    "b = np.array( [4, 12, -3] )\n",
    "\n",
    "# Методы линейной алгебры в linalg\n",
    "from numpy import linalg\n",
    "\n",
    "# Решение \n",
    "print('Решение системы уравнений: [x, y, z]')\n",
    "linalg.solve(a, b)\n",
    "\n",
    "# Проверка\n",
    "# np.allclose( np.dot(a, linalg.solve(a, b)), b )"
   ]
  },
  {
   "cell_type": "code",
   "execution_count": null,
   "metadata": {},
   "outputs": [],
   "source": []
  }
 ],
 "metadata": {
  "kernelspec": {
   "display_name": "Python 3",
   "language": "python",
   "name": "python3"
  },
  "language_info": {
   "codemirror_mode": {
    "name": "ipython",
    "version": 3
   },
   "file_extension": ".py",
   "mimetype": "text/x-python",
   "name": "python",
   "nbconvert_exporter": "python",
   "pygments_lexer": "ipython3",
   "version": "3.7.1"
  }
 },
 "nbformat": 4,
 "nbformat_minor": 2
}
