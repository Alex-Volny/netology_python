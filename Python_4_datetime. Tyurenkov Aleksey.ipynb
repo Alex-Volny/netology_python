{
 "cells": [
  {
   "cell_type": "code",
   "execution_count": 150,
   "metadata": {},
   "outputs": [
    {
     "name": "stdout",
     "output_type": "stream",
     "text": [
      "['2018-01-01', '2018-01-02', '2018-01-03', '2018-01-04', '2018-01-05', '2018-01-06', '2018-01-07']\n"
     ]
    }
   ],
   "source": [
    "# Задание 1\n",
    "\n",
    "# Напишите функцию date_range, которая возвращает список дней между датами start_date и end_date. \n",
    "# Даты должны вводиться в формате YYYY-MM-DD.\n",
    "\n",
    "from datetime import datetime\n",
    "from datetime import timedelta\n",
    "\n",
    "\n",
    "def date_interval_func(start_date, end_date):\n",
    "    \n",
    "    list_dates = []\n",
    "    start_date_dt = datetime.strptime(start_date, '%Y-%m-%d')\n",
    "    end_date_dt = datetime.strptime(end_date, '%Y-%m-%d')\n",
    "\n",
    "    current_dt = start_date_dt\n",
    "\n",
    "    while current_dt <= end_date_dt:\n",
    "        list_dates.append (current_dt.strftime('%Y-%m-%d'))\n",
    "        current_dt += timedelta(days=1)\n",
    "\n",
    "    return list_dates\n",
    "\n",
    "\n",
    "start_date = '2018-01-01'\n",
    "end_date = '2018-01-07'\n",
    "\n",
    "print ( date_interval_func(start_date, end_date) )"
   ]
  },
  {
   "cell_type": "code",
   "execution_count": 151,
   "metadata": {},
   "outputs": [
    {
     "name": "stdout",
     "output_type": "stream",
     "text": [
      "[]\n"
     ]
    }
   ],
   "source": [
    "# Задание 2\n",
    "\n",
    "# Дополните функцию из первого задания проверкой на корректность дат.\n",
    "# Даты должны вводиться в формате YYYY-MM-DD.\n",
    "# В случае неверного формата или если start_date > end_date должен возвращаться пустой список.\n",
    "\n",
    "from datetime import datetime\n",
    "from datetime import timedelta\n",
    "\n",
    "\n",
    "def date_interval_func(start_date, end_date):\n",
    "    \n",
    "    list_dates = []\n",
    "    \n",
    "    try:\n",
    "        # пробуем расшифровать дату в формате '%Y-%m-%d', если формат другой, возвращаем пустой список\n",
    "        start_date_dt = datetime.strptime(start_date, '%Y-%m-%d')\n",
    "        end_date_dt = datetime.strptime(end_date, '%Y-%m-%d')\n",
    "        \n",
    "    except ValueError:         \n",
    "        return list_dates\n",
    "    \n",
    "    if start_date_dt > end_date_dt:\n",
    "        return list_dates\n",
    "    \n",
    "    # Если проверки прошли успешно, то формируем список\n",
    "    current_dt = start_date_dt\n",
    "    \n",
    "    while current_dt <= end_date_dt:\n",
    "        list_dates.append (current_dt.strftime('%Y-%m-%d'))\n",
    "        current_dt += timedelta(days=1)\n",
    " \n",
    "    return list_dates\n",
    "\n",
    "\n",
    "start_date = '2018-01-09'\n",
    "end_date = '2018.01.07'\n",
    "\n",
    "print ( date_interval_func(start_date, end_date) )"
   ]
  },
  {
   "cell_type": "code",
   "execution_count": 152,
   "metadata": {},
   "outputs": [
    {
     "name": "stdout",
     "output_type": "stream",
     "text": [
      "{'2018-04-02': True, '2018-02-29': False, '2018-19-02': False}\n"
     ]
    }
   ],
   "source": [
    "# Задание 3\n",
    "\n",
    "# Дан поток дат в формате YYYY-MM-DD, в которых встречаются некорректные значения:\n",
    "# stream = ['2018-04-02', '2018-02-29', '2018-19-02']\n",
    "# Напишите функцию, которая проверяет эти даты на корректность. \n",
    "# Т. е. для каждой даты возвращает True (дата корректна) или False (некорректная дата).\n",
    "\n",
    "\n",
    "from datetime import datetime\n",
    "\n",
    "def date_check_func(stream_list):\n",
    "    \n",
    "    dict_dates = {}\n",
    "    \n",
    "    for i in stream_list:       \n",
    "        try:\n",
    "            # пробуем расшифровать и проверить на корректность дату в формате '%Y-%m-%d'\n",
    "            #   если exception - заполняем словарь dict_dates {key: value = False}, иначе {key: value = True}\n",
    "            current_dt = datetime.strptime(i, '%Y-%m-%d')\n",
    "            dict_dates.setdefault(i, True)\n",
    "            dict_dates[i] = True\n",
    "            \n",
    "        except ValueError:\n",
    "            dict_dates.setdefault(i, False)\n",
    "            dict_dates[i] = False\n",
    "                 \n",
    "    return dict_dates\n",
    "\n",
    "\n",
    "stream = ['2018-04-02', '2018-02-29', '2018-19-02']\n",
    "print ( date_check_func(stream) )\n"
   ]
  },
  {
   "cell_type": "code",
   "execution_count": 154,
   "metadata": {},
   "outputs": [
    {
     "name": "stdout",
     "output_type": "stream",
     "text": [
      "Сценарий №1: вчерашний день текущего месяца: \n",
      "['2019-03-01', '2019-03-02', '2019-03-03', '2019-03-04', '2019-03-05', '2019-03-06', '2019-03-07', '2019-03-08', '2019-03-09', '2019-03-10', '2019-03-11', '2019-03-12', '2019-03-13', '2019-03-14', '2019-03-15']\n"
     ]
    }
   ],
   "source": [
    "# Задание 4\n",
    "\n",
    "# Напишите функцию, которая возвращает список дат с 1 по вчерашний день текущего месяца. \n",
    "# Если дан 1 день месяца, то возвращается список дней прошлого месяца.\n",
    "\n",
    "#\n",
    "# Задание 4. Вариант №1. C легко читаемым циклом while\n",
    "#\n",
    "import datetime\n",
    "\n",
    "# Ф-ция возвращает список дат с начала месяца до (curr_date минус 1 день)\n",
    "def month_to_day_func(curr_date):\n",
    "\n",
    "    # Определить входящую дату минус 1 день (end_date)\n",
    "    end_date = curr_date - datetime.timedelta(1)\n",
    "\n",
    "    # По входящей дате, определить первый день месяца (start_date)\n",
    "    start_date = end_date.replace(day=1)\n",
    "\n",
    "    # Сгенерить список между start_date и end_date\n",
    "    list_dates = []\n",
    "    current_date = start_date\n",
    "\n",
    "    while current_date <= end_date:\n",
    "        list_dates.append (current_date.strftime('%Y-%m-%d'))\n",
    "        current_date += timedelta(days=1)\n",
    "\n",
    "    return list_dates\n",
    "\n",
    "\n",
    "# Задаем интересующую дату, например:\n",
    "\n",
    "# первый день текущего месяца (2019-03-01) => возвращаем ['2019-02-01' ... '2019-02-28']\n",
    "# curr_date = datetime.date.today().replace(day=1)\n",
    "\n",
    "# текущую дату (2019-03-16) => возвращаем ['2019-03-01' ... '2019-03-15']\n",
    "curr_date = datetime.date.today()\n",
    "\n",
    "print (\"Сценарий №1: вчерашний день текущего месяца: \")\n",
    "print ( month_to_day_func(curr_date) )"
   ]
  },
  {
   "cell_type": "code",
   "execution_count": 160,
   "metadata": {},
   "outputs": [
    {
     "name": "stdout",
     "output_type": "stream",
     "text": [
      "Сценарий №2: первый день текущего месяца: \n",
      "['2019-02-01', '2019-02-02', '2019-02-03', '2019-02-04', '2019-02-05', '2019-02-06', '2019-02-07', '2019-02-08', '2019-02-09', '2019-02-10', '2019-02-11', '2019-02-12', '2019-02-13', '2019-02-14', '2019-02-15', '2019-02-16', '2019-02-17', '2019-02-18', '2019-02-19', '2019-02-20', '2019-02-21', '2019-02-22', '2019-02-23', '2019-02-24', '2019-02-25', '2019-02-26', '2019-02-27', '2019-02-28']\n"
     ]
    }
   ],
   "source": [
    "#\n",
    "# Задание 4. Вариант №2. С совершенно не читаемым циклом for x in range\n",
    "#\n",
    "import datetime\n",
    "\n",
    "# Ф-ция возвращает список дат с начала месяца до (curr_date минус 1 день)\n",
    "def month_to_day_func(curr_date):\n",
    "    \n",
    "    # Определить входящую дату минус 1 день (end_date)\n",
    "    end_date = curr_date - datetime.timedelta(1)\n",
    "\n",
    "    # По входящей дате, определить первый день месяца (start_date)\n",
    "    start_date = end_date.replace(day=1)\n",
    "\n",
    "    # Сгенерить список между start_date и end_date\n",
    "    list_dates = [(start_date + datetime.timedelta(days=x)).strftime('%Y-%m-%d') for x in range(0, (end_date - start_date).days + 1)]\n",
    "\n",
    "    return list_dates\n",
    "\n",
    "\n",
    "# Задаем интересующую дату, например:\n",
    "\n",
    "# первый день текущего месяца (2019-03-01) => возвращаем ['2019-02-01' ... '2019-02-28']\n",
    "curr_date = datetime.date.today().replace(day=1)\n",
    "\n",
    "# текущую дату (2019-03-16) => возвращаем ['2019-03-01' ... '2019-03-15']\n",
    "# curr_date = datetime.date.today()\n",
    "\n",
    "print (\"Сценарий №2: первый день текущего месяца: \")\n",
    "print ( month_to_day_func(curr_date) )"
   ]
  },
  {
   "cell_type": "code",
   "execution_count": 161,
   "metadata": {},
   "outputs": [
    {
     "name": "stdout",
     "output_type": "stream",
     "text": [
      "today:  2019-03-16\n",
      "last monday:  2019-03-11\n",
      "last day:  2019-03-31\n"
     ]
    }
   ],
   "source": [
    "# Задание 5\n",
    "\n",
    "# Напишите функцию, которая возвращает точную дату в формате YYYY-MM-DD по фразе:\n",
    "\n",
    "#     'today' - сегодняшнюю дату\n",
    "#     'last monday' - прошлый (ближайший прошедший) понедельник\n",
    "#     'last day' - Последний день текущего месяца\n",
    "\n",
    "import datetime\n",
    "\n",
    "def date_func(key):\n",
    "\n",
    "    # Сегодняшняя дата (today)\n",
    "    if key == 'today':       \n",
    "        today = datetime.date.today()\n",
    "        return today.strftime('%Y-%m-%d')\n",
    "    \n",
    "    # Прошлый (ближайший прошедший) понедельник (last monday)\n",
    "    if key == 'last monday': \n",
    "        # Взять текущий день, вычесть из него количество дней, которые уже прошли на этой неделе\n",
    "        last_monday = datetime.date.today() - datetime.timedelta( days=datetime.date.today().weekday() )\n",
    "        return last_monday.strftime('%Y-%m-%d')   \n",
    "      \n",
    "    # Последний день текущего месяца (last day)\n",
    "    if key == 'last day':       \n",
    "        # Найти первый день текущего месяца ( today().replace(day=1, ) \n",
    "        #   прибавить 1 месяц ( month=datetime.date.today().month+1 )\n",
    "        #   отнять один день  (- datetime.timedelta(1) )\n",
    "        last_day = datetime.date.today().replace(day=1, month=datetime.date.today().month+1) - datetime.timedelta(1)\n",
    "        return last_day.strftime('%Y-%m-%d')\n",
    "        \n",
    "\n",
    "print ('today: ', date_func('today') )\n",
    "print ('last monday: ', date_func('last monday') )\n",
    "print ('last day: ', date_func('last day') )\n"
   ]
  },
  {
   "cell_type": "code",
   "execution_count": null,
   "metadata": {},
   "outputs": [],
   "source": []
  }
 ],
 "metadata": {
  "kernelspec": {
   "display_name": "Python 3",
   "language": "python",
   "name": "python3"
  },
  "language_info": {
   "codemirror_mode": {
    "name": "ipython",
    "version": 3
   },
   "file_extension": ".py",
   "mimetype": "text/x-python",
   "name": "python",
   "nbconvert_exporter": "python",
   "pygments_lexer": "ipython3",
   "version": "3.7.1"
  }
 },
 "nbformat": 4,
 "nbformat_minor": 2
}
