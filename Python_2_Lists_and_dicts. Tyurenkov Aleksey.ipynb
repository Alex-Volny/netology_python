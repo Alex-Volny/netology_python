{
 "cells": [
  {
   "cell_type": "code",
   "execution_count": 204,
   "metadata": {},
   "outputs": [
    {
     "data": {
      "text/plain": [
       "[{'visit1': ['Москва', 'Россия']},\n",
       " {'visit3': ['Владимир', 'Россия']},\n",
       " {'visit7': ['Тула', 'Россия']},\n",
       " {'visit8': ['Тула', 'Россия']},\n",
       " {'visit9': ['Курск', 'Россия']},\n",
       " {'visit10': ['Архангельск', 'Россия']}]"
      ]
     },
     "execution_count": 204,
     "metadata": {},
     "output_type": "execute_result"
    }
   ],
   "source": [
    "# ** Задание 1**\n",
    "#\n",
    "# Дан список с визитами по городам и странам. \n",
    "# Напишите код, который возвращает отфильтрованный список geo_logs, содержащий только визиты из России. \n",
    "# Считайте, что список geo_logs легко помещается в оперативной памяти.\n",
    "\n",
    "\n",
    "geo_logs = [\n",
    " {'visit1': ['Москва', 'Россия']},\n",
    " {'visit2': ['Дели', 'Индия']},\n",
    " {'visit3': ['Владимир', 'Россия']},\n",
    " {'visit4': ['Лиссабон', 'Португалия']},\n",
    " {'visit5': ['Париж', 'Франция']},\n",
    " {'visit6': ['Лиссабон', 'Португалия']},\n",
    " {'visit7': ['Тула', 'Россия']},\n",
    " {'visit8': ['Тула', 'Россия']},\n",
    " {'visit9': ['Курск', 'Россия']},\n",
    " {'visit10': ['Архангельск', 'Россия']},\n",
    "]\n",
    "\n",
    "filtered_geo_logs = []\n",
    "\n",
    "for line in geo_logs:\n",
    "    for key in line.values():\n",
    "       if (key[1] == 'Россия'):\n",
    "          filtered_geo_logs.append( line )\n",
    "\n",
    "filtered_geo_logs  "
   ]
  },
  {
   "cell_type": "code",
   "execution_count": 205,
   "metadata": {},
   "outputs": [
    {
     "name": "stdout",
     "output_type": "stream",
     "text": [
      "{98, 35, 15, 213, 54, 119}\n"
     ]
    }
   ],
   "source": [
    "# **Задание 2**\n",
    "#\n",
    "# Выведите на экран все уникальные гео-ID из значений словаря ids. \n",
    "# Т. е. список вида [213, 15, 54, 119, 98, 35]\n",
    "\n",
    "\n",
    "ids = {'user1': [213, 213, 213, 15, 213],\n",
    "       'user2': [54, 54, 119, 119, 119],\n",
    "       'user3': [213, 98, 98, 35]}\n",
    "\n",
    "filtered_ids = []\n",
    "\n",
    "for key in ids.values():\n",
    "    filtered_ids += key\n",
    "  \n",
    "print (set (filtered_ids))\n",
    "          "
   ]
  },
  {
   "cell_type": "code",
   "execution_count": 206,
   "metadata": {},
   "outputs": [
    {
     "name": "stdout",
     "output_type": "stream",
     "text": [
      "{3: 57.16, 2: 42.87}\n"
     ]
    }
   ],
   "source": [
    "# **Задание 3**\n",
    "#\n",
    "# Список поисковых запросов. Получить распределение количества слов в них. \n",
    "# Т. е. поисковых запросов из одного слова 5%, из двух - 7%, из трех - 3% итд.\n",
    "# queries = [                    Кол-во слов (Qty)\n",
    "#   'смотреть сериалы онлайн',   3  \n",
    "#   'новости спорта',            2 \n",
    "#   'афиша кино',                2\n",
    "#   'курс доллара',              2\n",
    "#   'сериалы этим летом',        3\n",
    "#   'курс по питону',            3\n",
    "#   'сериалы про спорт',         3\n",
    "# ]\n",
    "# Total кол-во слов = 18\n",
    "# Total кол-во запросов = 7\n",
    "#\n",
    "# group by (Qty)   count (QtyQuery)\n",
    "# 2 слова          - 3 запроса  (100 * 3 / 7 = 42.85% )\n",
    "# 3 слова          - 4 запроса  (100 * 4 / 7 = 57.14% )\n",
    "#\n",
    "# 2 - 42.85%\n",
    "# 3 - 57.14%\n",
    "\n",
    "queries = [\n",
    "  'смотреть сериалы онлайн',\n",
    "  'новости спорта',\n",
    "  'афиша кино',\n",
    "  'курс доллара',\n",
    "  'сериалы этим летом',\n",
    "  'курс по питону',\n",
    "  'сериалы про спорт',\n",
    "]\n",
    "\n",
    "# 1) Посчитать кол-во слов в запросе (для этого заранее разбить строку split'ом и превратить строку в список), \n",
    "#    Записать кол-во слов в списке(Qty) 1-м столбцом в новый список queriesList, а его вес (QtyQ = 1) вторым столбцом\n",
    "#    В переменной QtyQueryTotal посчитать Общее кол-во запросов\n",
    "#                 Кол-во слов (Qty),  Вес запроса (QtyQ = 1)\n",
    "#    queriesList = [                           \n",
    "#                 [3,                 1]\n",
    "#                 [2,                 1]\n",
    "#                 [2,                 1]\n",
    "#                 [2,                 1]\n",
    "#                 [3,                 1]\n",
    "#                 [3,                 1]\n",
    "#                 [3,                 1]\n",
    "#    ]\n",
    "QtyQueryTotal = 0\n",
    "queriesList = []\n",
    "\n",
    "for line in queries:\n",
    "   queriesList.append( [len(line.split()), 1] )\n",
    "   QtyQueryTotal += 1\n",
    "    \n",
    "# 2) Группировка по Кол-ву слов \n",
    "#    Сгруппировать по кол-ву слов - group by (Qty), просуммировать по кол-во запросов (QtyQuery)\n",
    "#    Cделать словарь с ключем (key = Qty) и значением (value = QtyQuery) -> {Qty:QtyQuery}\n",
    "#    Подсчитать %запросов по кол-ву слов (перезаписать value): Prc% = 100 * QtyQuery / QtyQueryTotal \n",
    "#    Кол-во слов (Qty) : Кол-во запросов (QtyQuery)\n",
    "#    dictQty = {  \n",
    "#                    2 : 3,  ->  2 : (100 * 3 / QtyQueryTotal)  -> 2 : 42.85%  \n",
    "#                    3 : 4,  ->  3 : (100 * 4 / QtyQueryTotal)  -> 3 : 57.14%\n",
    "#     }\n",
    "dictQty = {}\n",
    "\n",
    "for line in queriesList:\n",
    "    dictQty.setdefault(line[0], 0)\n",
    "    dictQty[line[0]] += round (100 * line[1] / QtyQueryTotal, 2) \n",
    "\n",
    "print (dictQty)\n",
    "\n"
   ]
  },
  {
   "cell_type": "code",
   "execution_count": 207,
   "metadata": {},
   "outputs": [
    {
     "name": "stdout",
     "output_type": "stream",
     "text": [
      "yandex\n"
     ]
    }
   ],
   "source": [
    "# **Задание 4**\n",
    "#\n",
    "# Дана статистика рекламных каналов по объемам продаж. \n",
    "# Напишите скрипт, который возвращает название канала с максимальным объемом.\n",
    "# Т. е. в данном примере скрипт должен возвращать 'yandex'.\n",
    "# stats = {'facebook': 55, 'yandex': 120, 'vk': 115, 'google': 99, 'email': 42, 'ok': 98}\n",
    "\n",
    "stats = {'facebook': 55, 'yandex': 120, 'vk': 115, 'google': 99, 'email': 42, 'ok': 98}\n",
    "\n",
    "valueMax = 0\n",
    "indexMax = ''\n",
    "\n",
    "for key, value in stats.items():\n",
    "     if valueMax < value :  \n",
    "          valueMax = value\n",
    "          indexMax = key \n",
    "            \n",
    "print(indexMax)            "
   ]
  },
  {
   "cell_type": "code",
   "execution_count": 208,
   "metadata": {},
   "outputs": [
    {
     "name": "stdout",
     "output_type": "stream",
     "text": [
      "Вариант №1 (ЧЕРЕЗ СЛОВАРЬ). Cреднее значение просмотров пользователей:  23.25\n",
      "Вариант №2 (ЧЕРЕЗ СПИСОК).  Cреднее значение просмотров пользователей:  23.25\n"
     ]
    }
   ],
   "source": [
    "# **Задание 5**\n",
    "#\n",
    "# Дан поток логов по количеству просмотренных страниц для каждого пользователя. \n",
    "# Список отсортирован по ID пользователя. \n",
    "# Вам необходимо написать алгоритм, который считает среднее значение просмотров на пользователя.\n",
    "# Т. е. надо посчитать отношение суммы всех просмотров к количеству уникальных пользователей. \n",
    "# Учтите, что весь список stream не помещается в оперативную память, \n",
    "#   т. е. его нужно обрабатывать поэлементно в цикле.\n",
    "\n",
    "stream = [\n",
    "    '2018-01-01,user1,3',\n",
    "    '2018-01-07,user1,4',\n",
    "    '2018-03-29,user1,1',\n",
    "    '2018-04-04,user1,13',\n",
    "    '2018-01-05,user2,7',\n",
    "    '2018-06-14,user3,4',\n",
    "    '2018-07-02,user3,10',\n",
    "    '2018-03-21,user4,19',\n",
    "    '2018-03-22,user4,4',\n",
    "    '2018-04-22,user4,8',\n",
    "    '2018-05-03,user4,9',\n",
    "    '2018-05-11,user4,11',\n",
    "]\n",
    "\n",
    "# Задание 5. ВАРИАНТ №1 (ЧЕРЕЗ СЛОВАРЬ)\n",
    "#  1. Превращаем строку в список lineList через split(','), избегая двойного скана stream \n",
    "#      ->  [ '2018-01-01', 'user1', '3'],  ...    \n",
    "#  2. Группируем по user в словаре, резко сокращаем выборку (value = 1  - это вес юзера)\n",
    "#  3. Считаем сумму всех просмотров по журналу (QtySearchTotal)\n",
    "\n",
    "unique_user_count = 0\n",
    "searchTotal = 0\n",
    "lineList = []\n",
    "streamUser = {}\n",
    "\n",
    "for line in stream:\n",
    "    lineList = line.split(',')\n",
    "    streamUser.setdefault(lineList[1], 0)\n",
    "    streamUser[lineList[1]] = 1 \n",
    "    searchTotal += int(lineList[2])\n",
    "\n",
    "# 4. Считаем кол-во уникальных пользователей (unique_user_count = 4) \n",
    "#     -> {'user1': 1, 'user2': 1, 'user3': 1, 'user4': 1}\n",
    "#    Выводим среднее значение просмотров пользователей (не среднее на пользователя!): 93/4= 23.25\n",
    "for key in streamUser.values():\n",
    "    unique_user_count += key\n",
    "\n",
    "print ('Вариант №1 (ЧЕРЕЗ СЛОВАРЬ). Cреднее значение просмотров пользователей: ', searchTotal / unique_user_count )\n",
    "\n",
    "\n",
    "\n",
    "# Задание 5. ВАРИАНТ №2 (ЧЕРЕЗ СПИСОК)\n",
    "# 1. Превращаем строку в список lineList через split(','), чтобы избежать 2-го прохода по входящему stream   \n",
    "#      1.1. Считаем сумму всех просмотров по журналу (QtySearchTotal), т.к. сканировали оригинальный stream\n",
    "#      1.2. Группировка по user в обычном списке streamUser -> ['user1', 'user1', 'user1', 'user1', 'user2', 'user3', 'user3', 'user4', 'user4', 'user4', 'user4', 'user4']\n",
    "# 2. Считаем кол-во уникальных пользователей (unique_user_count = 4)\n",
    "#      count distinct user -> len(set(streamUser))\n",
    "# 3. Считаем среднее значение просмотров пользователей (не среднее на пользователя!): \n",
    "#      searchTotal / unique_user_count ( 93/4= 23.25 )\n",
    "\n",
    "unique_user_count = 0\n",
    "searchTotal = 0\n",
    "lineList = []\n",
    "streamUser = []\n",
    "\n",
    "for line in stream:\n",
    "    lineList = line.split(',')\n",
    "    searchTotal += int(lineList[2])\n",
    "    streamUser.append( lineList[1] )\n",
    "\n",
    "    \n",
    "unique_user_count = len(set(streamUser))\n",
    "print ('Вариант №2 (ЧЕРЕЗ СПИСОК).  Cреднее значение просмотров пользователей: ', searchTotal / unique_user_count )\n",
    "\n",
    "\n",
    "    "
   ]
  },
  {
   "cell_type": "code",
   "execution_count": 209,
   "metadata": {},
   "outputs": [
    {
     "data": {
      "text/plain": [
       "[25]"
      ]
     },
     "execution_count": 209,
     "metadata": {},
     "output_type": "execute_result"
    }
   ],
   "source": [
    "# **Задание 6**\n",
    "#\n",
    "# Дана статистика рекламных кампаний по дням. \n",
    "# Напишите алгоритм, который по паре дата-кампания ищет значение численного столбца. \n",
    "# Т. е. для даты '2018-01-01' и 'google' нужно получить число 25. \n",
    "# Считайте, что все комбинации дата-кампания уникальны, а список stats легко помещается в оперативной памяти.\n",
    "\n",
    "statsMaster = ['2018-01-01', 'google']\n",
    "    \n",
    "statsDetail = [\n",
    "    ['2018-01-01', 'google', 25],\n",
    "    ['2018-01-01', 'yandex', 65],\n",
    "    ['2018-01-01', 'market', 89],\n",
    "    ['2018-01-02', 'google', 574],\n",
    "    ['2018-01-02', 'yandex', 249],\n",
    "    ['2018-01-02', 'market', 994],\n",
    "    ['2018-01-03', 'google', 1843],\n",
    "    ['2018-01-03', 'yandex', 1327],\n",
    "    ['2018-01-03', 'market', 1764],\n",
    "]\n",
    "\n",
    "join_ms = []\n",
    "for j in statsDetail:\n",
    "    if statsMaster == j[0:-1]:\n",
    "       join_ms.append(j[-1])\n",
    "       break  \n",
    " \n",
    "join_ms\n"
   ]
  },
  {
   "cell_type": "code",
   "execution_count": 210,
   "metadata": {},
   "outputs": [
    {
     "name": "stdout",
     "output_type": "stream",
     "text": [
      "[25, 249, 1764]\n"
     ]
    },
    {
     "data": {
      "text/plain": [
       "[['2018-01-01', 'google', 25],\n",
       " ['2018-01-02', 'yandex', 249],\n",
       " ['2018-01-03', 'market', 1764]]"
      ]
     },
     "execution_count": 210,
     "metadata": {},
     "output_type": "execute_result"
    }
   ],
   "source": [
    "# **Бонусный вариант (делать его не обязательно)**\n",
    "#\n",
    "# Рассмотрите обобщенный вариант этой задачи: имеется таблица из n столбцов. \n",
    "# Первые n-1 столбцов - признаки (комбинации этих признаков в таблице уникальные).\n",
    "# Последний столбец - значение. \n",
    "# Вам необходимо по набору n-1 признаков найти соответствующую строчку в таблице \n",
    "#   и вернуть значение из правого столбца. \n",
    "# Учтите, что исходная таблица может быть любого размера.\n",
    "\n",
    "statsMaster = [\n",
    "    ['2018-01-01', 'google'],\n",
    "    ['2018-01-01', 'google'],\n",
    "      ['2018-01-01', 'google', 'abracadabra'],\n",
    "    ['2018-01-02', 'yandex'],\n",
    "    ['2018-01-03', 'market'],\n",
    "]\n",
    "\n",
    "statsDetail = [\n",
    "    ['2018-01-01', 'google', 25],\n",
    "    ['2018-01-01', 'yandex', 65],\n",
    "    ['2018-01-01', 'market', 89],\n",
    "    ['2018-01-02', 'google', 574],\n",
    "    ['2018-01-02', 'yandex', 249],\n",
    "    ['2018-01-02', 'market', 994],\n",
    "    ['2018-01-03', 'google', 1843],\n",
    "    ['2018-01-03', 'yandex', 1327],\n",
    "    ['2018-01-03', 'market', 1764],\n",
    "]\n",
    "\n",
    "# **(JOIN 2-Х СПИСКОВ -> Возврат: VALUE)\n",
    "#   По списку statsMaster (с параметрами), получить выборку из statsSlave (со значениями)\n",
    "#   Производительность:\n",
    "#      если statsDetail уникальный (как здесь), лучше ставить break (так быстрее работает) \n",
    "#      если statsDetail не уникальный, нужно закоментировать break (выберет все ключевые записи в statsDetail, в т.ч. неуникальные), но работать будеть чуть медленнее\n",
    "#   Добавлена проверка на повторяемость строк в statsMaster (возможна не уникальность statsMaster, которая не приведет к генерации дублей)\n",
    "#   Возможен неформатный входящий спискок statsMaster (3-я строка -> ['2018-01-01', 'google', 'abracadabra'] )\n",
    "\n",
    "join_ms = []\n",
    "check_list = []\n",
    "for i in statsMaster:\n",
    "    if  i in check_list:\n",
    "        continue\n",
    "    for j in statsDetail:\n",
    "        if i == j[0:-1]:\n",
    "            join_ms.append(j[-1])\n",
    "            check_list.append(i)\n",
    "            break  # если statsDetail не уникальный, нужно закоментировать break (выберет все ключевые записи в statsDetail, в т.ч. неуникальные), но работать будеть чуть медленнее\n",
    "         \n",
    "print (join_ms)\n",
    "\n",
    "\n",
    "# **(JOIN 2-Х СПИСКОВ -> Возврат: JOIN + VALUE)\n",
    "join_ms = []\n",
    "check_list = []\n",
    "for i in statsMaster:\n",
    "    if  i in check_list:\n",
    "        continue\n",
    "    for j in statsDetail:\n",
    "        if i == j[0:-1]:\n",
    "            join_ms.append(j)\n",
    "            check_list.append(i)\n",
    "            break  # если statsDetail не уникальный, нужно закоментировать break (выберет все ключевые записи в statsDetail, в т.ч. неуникальные), но работать будеть чуть медленнее\n",
    "         \n",
    "join_ms"
   ]
  },
  {
   "cell_type": "code",
   "execution_count": null,
   "metadata": {},
   "outputs": [],
   "source": []
  }
 ],
 "metadata": {
  "kernelspec": {
   "display_name": "Python 3",
   "language": "python",
   "name": "python3"
  },
  "language_info": {
   "codemirror_mode": {
    "name": "ipython",
    "version": 3
   },
   "file_extension": ".py",
   "mimetype": "text/x-python",
   "name": "python",
   "nbconvert_exporter": "python",
   "pygments_lexer": "ipython3",
   "version": "3.7.1"
  }
 },
 "nbformat": 4,
 "nbformat_minor": 2
}
