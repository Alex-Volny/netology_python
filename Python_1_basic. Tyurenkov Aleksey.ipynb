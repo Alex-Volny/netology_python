{
 "cells": [
  {
   "cell_type": "code",
   "execution_count": 3,
   "metadata": {},
   "outputs": [
    {
     "name": "stdout",
     "output_type": "stream",
     "text": [
      "Результат : long_phrase длиннее short_phrase?  True\n"
     ]
    }
   ],
   "source": [
    "# 1. Даны 2 строки long_phrase и short_phrase\n",
    "#    Напишите код, который проверяет действительно ли длинная фраза long_phrase длиннее короткой short_phrase.\n",
    "\n",
    "long_phrase = 'Насколько проще было бы писать программы, если бы не заказчики'\n",
    "short_phrase = '640Кб должно хватить для любых задач. Билл Гейтс (по легенде)'\n",
    "\n",
    "print (\"Результат : long_phrase длиннее short_phrase? \", len(long_phrase) > len(short_phrase))"
   ]
  },
  {
   "cell_type": "code",
   "execution_count": 4,
   "metadata": {},
   "outputs": [
    {
     "name": "stdout",
     "output_type": "stream",
     "text": [
      "  1-й Вариант: через цикл for: \n",
      "Результат: буква \"а\" встречается: 7 раз. буква \"и\" встречается: 4 раз.\n",
      "  2-й Вариант: через replace / strip: \n",
      "Результат: буква \"а\" встречается: 7 раз. буква \"и\" встречается: 4 раз.\n"
     ]
    }
   ],
   "source": [
    "# 2. Дана строка text. Определите какая из двух букв встречается в нем чаще - 'а' или 'и'.\n",
    "\n",
    "text = 'Если программист в 9-00 утра на работе, значит, он там и ночевал'\n",
    "\n",
    "# 1-й Вариант: через цикл for\n",
    "count_sym_a = 0\n",
    "count_sym_i = 0\n",
    "\n",
    "for i in text: \n",
    "    if i == 'а': \n",
    "        count_sym_a = count_sym_a +1\n",
    "    if i == 'и': \n",
    "        count_sym_i = count_sym_i +1\n",
    "        \n",
    "print('  1-й Вариант: через цикл for: ')          \n",
    "print('Результат: буква \"а\" встречается:', count_sym_a, 'раз.' \n",
    "                ' буква \"и\" встречается:', count_sym_i, 'раз.')        \n",
    "\n",
    "\n",
    "# 2-й Вариант: через replace / strip\n",
    "text_str_a = text.replace('а', '').strip()\n",
    "text_str_i = text.replace('и', '').strip()\n",
    "\n",
    "print('  2-й Вариант: через replace / strip: ')\n",
    "print('Результат: буква \"а\" встречается:', len(text)-len(text_str_a), 'раз.' \n",
    "                ' буква \"и\" встречается:', len(text)-len(text_str_i), 'раз.')        \n",
    "      "
   ]
  },
  {
   "cell_type": "code",
   "execution_count": 5,
   "metadata": {},
   "outputs": [
    {
     "name": "stdout",
     "output_type": "stream",
     "text": [
      "Введите значение объема файла в байтах: 214155135\n",
      "  1-й Вариант: старый синтаксис: \n",
      "Объем файла равен = 204.23Mб\n",
      "  2-й Вариант: cинтаксис 3-го питона: \n",
      "Объем файла равен = 204.23Mб\n"
     ]
    }
   ],
   "source": [
    "# 3. Дано значение объема файла в байтах. \n",
    "#    Напишите перевод этого значения в мегабайты в формате: 'Объем файла равен 213.68Mb'\n",
    "\n",
    "n_bytes = int(input(\"Введите значение объема файла в байтах: \"))\n",
    "\n",
    "# 1-й Вариант: старый синтаксис\n",
    "print('  1-й Вариант: старый синтаксис: ')\n",
    "print(\"Объем файла равен = %.2fMб\" % (n_bytes/1024/1024))\n",
    "    \n",
    "# 2-й Вариант: cинтаксис 3-го питона\n",
    "print('  2-й Вариант: cинтаксис 3-го питона: ')\n",
    "print(f'Объем файла равен = {n_bytes/1024/1024:.2f}Mб')\n"
   ]
  },
  {
   "cell_type": "code",
   "execution_count": 6,
   "metadata": {},
   "outputs": [
    {
     "name": "stdout",
     "output_type": "stream",
     "text": [
      "Cинус 30 градусов равен 0.5\n"
     ]
    }
   ],
   "source": [
    "# 4. Выведите на экран значение синуса 30 градусов с помощью метода math.sin.\n",
    "import math\n",
    "print('Cинус 30 градусов равен', round(math.sin(math.radians(30)),4) )\n"
   ]
  },
  {
   "cell_type": "code",
   "execution_count": 7,
   "metadata": {},
   "outputs": [
    {
     "name": "stdout",
     "output_type": "stream",
     "text": [
      "0.30000000000000004\n",
      "0.3\n",
      "Накапливаются ошибки округления, при переводе значения с плавающей точкой\n",
      "False\n"
     ]
    }
   ],
   "source": [
    "# 5. В прошлом задании у вас скорее всего не получилось точного значения 0.5 из-за конечной точности вычисления синуса.\n",
    "# Попробуйте вывести на экран результат операции 0.1 + 0.2. Почему результат неточен\n",
    "# \n",
    "# Ответ: накапливаются ошибки округления, при переводе значения с плавающей точкой')\n",
    "# \n",
    "# 0.2 + 0.1 == 0.3\n",
    "# -> False\n",
    "\n",
    "print( 0.1 + 0.2) \n",
    "print( round(0.1 + 0.2,4) ) \n",
    "print('Накапливаются ошибки округления, при переводе значения с плавающей точкой')\n",
    "print( 0.2 + 0.1 == 0.3 )"
   ]
  },
  {
   "cell_type": "code",
   "execution_count": 8,
   "metadata": {},
   "outputs": [
    {
     "name": "stdout",
     "output_type": "stream",
     "text": [
      "Введите значение переменной 'А': 241151551351\n",
      "Введите значение переменной 'B': 798676878585\n",
      "Заменим значения 'А' на 'B': 'А' =  798676878585.0\n",
      "Заменим значения 'B' на 'A': 'В' =  241151551351.0\n"
     ]
    }
   ],
   "source": [
    "# 6. Задания посложнее:\n",
    "#    В переменных a и b записаны 2 различных числа. \n",
    "#    Вам необходимо написать код, который меняет значения a и b местами без использования третьей переменной.\n",
    "\n",
    "A_var = float(input(\"Введите значение переменной 'А': \"))\n",
    "B_var = float(input(\"Введите значение переменной 'B': \"))\n",
    "\n",
    "print(\"Заменим значения 'А' на 'B': 'А' = \", A_var * B_var / A_var)\n",
    "print(\"Заменим значения 'B' на 'A': 'В' = \", B_var * A_var / B_var)\n"
   ]
  },
  {
   "cell_type": "code",
   "execution_count": 9,
   "metadata": {},
   "outputs": [
    {
     "name": "stdout",
     "output_type": "stream",
     "text": [
      "Введите двоичное целое число: 10101010101\n",
      "Двоичное целое число 10101010101 соответствует десятичному числу  1365\n"
     ]
    }
   ],
   "source": [
    "# 6. Задания посложнее:\n",
    "#    Дано число в двоичной системе счисления: num=10011. \n",
    "#    Напишите алгоритм перевода этого числа в привычную нам десятичную систему счисления.\n",
    "#    Возможно, вам понадобится цикл прохождения всех целых чисел от 0 до m:\n",
    "#    for n in range(m)\n",
    "\n",
    "bin_var = input(\"Введите двоичное целое число: \") \n",
    "len_var = len(bin_var) \n",
    "dec_var = 0 \n",
    "for i in range(0, len_var): \n",
    "    dec_var = dec_var + int(bin_var[i]) * (2**(len_var-i-1)) \n",
    "print(\"Двоичное целое число\", bin_var, \"соответствует десятичному числу \", dec_var) \n"
   ]
  },
  {
   "cell_type": "code",
   "execution_count": null,
   "metadata": {},
   "outputs": [],
   "source": []
  }
 ],
 "metadata": {
  "kernelspec": {
   "display_name": "Python 3",
   "language": "python",
   "name": "python3"
  },
  "language_info": {
   "codemirror_mode": {
    "name": "ipython",
    "version": 3
   },
   "file_extension": ".py",
   "mimetype": "text/x-python",
   "name": "python",
   "nbconvert_exporter": "python",
   "pygments_lexer": "ipython3",
   "version": "3.7.1"
  }
 },
 "nbformat": 4,
 "nbformat_minor": 2
}
