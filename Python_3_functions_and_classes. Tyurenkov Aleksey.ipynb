{
 "cells": [
  {
   "cell_type": "code",
   "execution_count": 4,
   "metadata": {},
   "outputs": [
    {
     "name": "stdout",
     "output_type": "stream",
     "text": [
      "Сумма элементов диагонали:  103\n"
     ]
    }
   ],
   "source": [
    "# Задание 1\n",
    "# Дан список вида data:\n",
    "# Напишите функцию, которая возвращает сумму элементов на диагонали. Т. е. 13+32+23+35 = 103.\n",
    "\n",
    "def sumMain_matrix_func(x_matrix):\n",
    "\n",
    "    # сумма элементов главной диагонали\n",
    "    sumMain = 0\n",
    "\n",
    "    # Количество итераций цикла соответствует размерности квадратной матрицы = len(data)\n",
    "    for i in range( len(x_matrix) ):\n",
    "        # Идем по элементам главной диагонали (у них совпадают оба индекса).\n",
    "        sumMain += x_matrix[i][i]\n",
    "\n",
    "    return sumMain\n",
    "\n",
    "\n",
    "data = [\n",
    "[13, 25, 23, 34],\n",
    "[45, 32, 44, 47],\n",
    "[12, 33, 23, 95],\n",
    "[13, 53, 34, 35],\n",
    "]\n",
    "\n",
    "print( 'Сумма элементов диагонали: ', sumMain_matrix_func(data) )"
   ]
  },
  {
   "cell_type": "code",
   "execution_count": 5,
   "metadata": {},
   "outputs": [
    {
     "name": "stdout",
     "output_type": "stream",
     "text": [
      "Сумма квадратов элементов:  430\n"
     ]
    }
   ],
   "source": [
    "# Задание 2\n",
    "# Дан список чисел, часть из которых имеют строковый тип или содержат буквы. \n",
    "# Напишите функцию, которая возвращает сумму квадратов элементов, которые могут быть числами.\n",
    "#  data = [1, 2, 3, 4, '5']         =>   1 + 4 + 9 + 16 + 25 = 55\n",
    "#  data = [1, '5', 'abc', 20, '2']  =>   1 + 25 + 400 + 4 = 430\n",
    "\n",
    "def sum_square_func(x_list):\n",
    "\n",
    "    # сумма квадратов элементов\n",
    "    sum_square = 0\n",
    "   \n",
    "    for i in x_list:\n",
    "        # элемент преобразовать в строку, а потом проверить на int\n",
    "        if str.isnumeric( str(i) ):\n",
    "            sum_square += int(i)**2 \n",
    "                 \n",
    "    return sum_square\n",
    "\n",
    "\n",
    "data = [1, '5', 'abc', 20, '2']\n",
    "print( 'Сумма квадратов элементов: ', sum_square_func(data) )"
   ]
  },
  {
   "cell_type": "code",
   "execution_count": 6,
   "metadata": {},
   "outputs": [
    {
     "name": "stdout",
     "output_type": "stream",
     "text": [
      "Название валюты с максимальным значением курса:  Датских крон = 99.29\n"
     ]
    }
   ],
   "source": [
    "# Задание 3\n",
    "# Напишите функцию, которая возвращает название валюты (поле 'Name') с максимальным значением курса \n",
    "# с помощью сервиса https://www.cbr-xml-daily.ru/daily_json.js\n",
    "\n",
    "import requests\n",
    "    \n",
    "def max_val_currency_func():\n",
    "\n",
    "    # 1. Cекция \"Valute\" из json это словарь response{key : value} = ['USD']:{dict('USD')}, \n",
    "    #     где Name - это название валюты, а Value - это очередной словарь с деталями и курсом  \n",
    "    r = requests.get('https://www.cbr-xml-daily.ru/daily_json.js')\n",
    "    response = r.json()['Valute']\n",
    "\n",
    "    # 2. Найти максимальное значение курса, пройдя по словарю response{key : value}\n",
    "    #    Расшифруем value:\n",
    "    #     response['USD']['Name']  - это название валюты\n",
    "    #     response['USD']['Value'] - это курс\n",
    "    value_cur_max = 0\n",
    "    key_curr_max = ''\n",
    "\n",
    "    for key, value in response.items():\n",
    "         if value_cur_max < value['Value'] :  \n",
    "              value_cur_max = value['Value']\n",
    "              key_curr_max = value['Name']\n",
    "                \n",
    "    return str(key_curr_max) + \" = \" + str(value_cur_max) \n",
    "\n",
    "\n",
    "print(\"Название валюты с максимальным значением курса: \", max_val_currency_func() )            \n",
    " \n"
   ]
  },
  {
   "cell_type": "code",
   "execution_count": 7,
   "metadata": {},
   "outputs": [
    {
     "name": "stdout",
     "output_type": "stream",
     "text": [
      "Евро\n",
      "74.0237\n",
      "-0.04349999999999454\n"
     ]
    }
   ],
   "source": [
    "# Задание 4\n",
    "# Последнее упражнение с занятия:\n",
    "#     Добавьте в класс еще один формат, который возвращает название валюты (например, 'Евро').\n",
    "#     Добавьте в класс параметр diff (со значениями True или False), \n",
    "#       который в случае значения True в методах eur и usd будет возвращать не курс валюты, \n",
    "#       а изменение по сравнению в прошлым значением.\n",
    "\n",
    "import requests\n",
    "\n",
    "class Rate:\n",
    "    def __init__(self, format='value', diff=False):\n",
    "        self.format = format\n",
    "        self.diff = diff\n",
    "        \n",
    "    \n",
    "    def exchange_rates(self):\n",
    "        \"\"\"\n",
    "        Возвращает ответ сервиса с информацией о валютах в виде:\n",
    "        \n",
    "        {\n",
    "            'AMD': {\n",
    "                'CharCode': 'AMD',\n",
    "                'ID': 'R01060',\n",
    "                'Name': 'Армянских драмов',\n",
    "                'Nominal': 100,\n",
    "                'NumCode': '051',\n",
    "                'Previous': 14.103,\n",
    "                'Value': 14.0879\n",
    "                },\n",
    "            ...\n",
    "        }\n",
    "        \"\"\"\n",
    "        r = requests.get('https://www.cbr-xml-daily.ru/daily_json.js')\n",
    "        return r.json()['Valute']\n",
    "    \n",
    "    def make_format(self, currency):\n",
    "        \"\"\"\n",
    "        Возвращает информацию о валюте currency в 4-х вариантах:\n",
    "        1. Полная информация о валюте при self.format = 'full':\n",
    "        Rate('full').make_format('EUR')\n",
    "        {\n",
    "            'CharCode': 'EUR',\n",
    "            'ID': 'R01239',\n",
    "            'Name': 'Евро',\n",
    "            'Nominal': 1,\n",
    "            'NumCode': '978',\n",
    "            'Previous': 79.6765,\n",
    "            'Value': 79.4966\n",
    "        }\n",
    "        \n",
    "        2. Текущий курс, указанной валюты\n",
    "        Rate('value').make_format('EUR')\n",
    "        79.4966\n",
    "        \n",
    "        3. Название указанной валюты\n",
    "        Rate('currency').make_format('EUR')\n",
    "        'Евро'\n",
    "        \n",
    "        4. Изменение курса валюты по сравнению в прошлым значением\n",
    "        Rate('value', True).make_format('EUR')\n",
    "        -0.04349999999999454\n",
    "\n",
    "        \"\"\"\n",
    "        response = self.exchange_rates()\n",
    "        \n",
    "        if currency in response:\n",
    "            if self.format == 'full':\n",
    "                return response[currency]\n",
    "            \n",
    "            if self.format == 'value':\n",
    "                if self.diff == True:\n",
    "                    return response[currency]['Value'] - response[currency]['Previous']\n",
    "                else:\n",
    "                    return response[currency]['Value']\n",
    "\n",
    "            if self.format == 'currency':\n",
    "                return response[currency]['Name']\n",
    "\n",
    "        return 'Error'\n",
    "    \n",
    "    def eur(self):\n",
    "        \"\"\"Возвращает курс евро на сегодня в формате self.format\"\"\"\n",
    "        return self.make_format('EUR')\n",
    "    \n",
    "    def usd(self):\n",
    "        \"\"\"Возвращает курс доллара на сегодня в формате self.format\"\"\"\n",
    "        return self.make_format('USD')\n",
    "\n",
    "    \n",
    "curr = Rate()\n",
    "print ( Rate('currency').eur() )\n",
    "print ( curr.eur() )\n",
    "print ( Rate('value', True).eur() )\n"
   ]
  },
  {
   "cell_type": "code",
   "execution_count": 8,
   "metadata": {},
   "outputs": [
    {
     "name": "stdout",
     "output_type": "stream",
     "text": [
      "Введите кол-во первых чисел Фибоначчи: 5\n",
      "Сумма первых 5 чисел Фибоначчи равна 12\n"
     ]
    }
   ],
   "source": [
    "# Задание 5\n",
    "# Напишите функцию, возвращающую сумму первых n чисел Фибоначчи\n",
    "# См. ниже 2 вар-та решения (c return и yield)\n",
    "\n",
    "#\n",
    "# Задание 5. Вариант №1. С return и подсчетом суммы внутри ф-ции\n",
    "#\n",
    "\n",
    "def fibonacci_func(n):\n",
    "    fib_sum = 0\n",
    "    fib1, fib2 = 0, 1\n",
    "\n",
    "    for i in range(n):\n",
    "        fib1, fib2 = fib2, fib1 + fib2\n",
    "        fib_sum +=fib1\n",
    "    return fib_sum\n",
    "\n",
    "\n",
    "n = int(input('Введите кол-во первых чисел Фибоначчи: '))\n",
    "\n",
    "print('Сумма первых',n,'чисел Фибоначчи равна', fibonacci_func(n))"
   ]
  },
  {
   "cell_type": "code",
   "execution_count": 9,
   "metadata": {},
   "outputs": [
    {
     "name": "stdout",
     "output_type": "stream",
     "text": [
      "Введите кол-во первых чисел Фибоначчи: 5\n",
      "1 1 2 3 5 \n",
      "Сумма первых 5 чисел Фибоначчи равна 12\n"
     ]
    }
   ],
   "source": [
    "#\n",
    "# Задание 5. Вариант №2. С yield на строчной итерируемой ф-ции, а подсчет суммы в вызове\n",
    "#\n",
    "\n",
    "def fibonacci_func(n):\n",
    "    fib1, fib2 = 0, 1\n",
    "    for i in range(n):\n",
    "        fib1, fib2 = fib2, fib1 + fib2\n",
    "        yield fib1\n",
    "\n",
    "        \n",
    "n = int(input('Введите кол-во первых чисел Фибоначчи: '))\n",
    "\n",
    "for fib in fibonacci_func(n):\n",
    "    print(fib, end=' ')\n",
    "print()\n",
    "\n",
    "print('Сумма первых',n,'чисел Фибоначчи равна', sum(fibonacci_func(n)))\n"
   ]
  },
  {
   "cell_type": "code",
   "execution_count": 10,
   "metadata": {},
   "outputs": [
    {
     "name": "stdout",
     "output_type": "stream",
     "text": [
      "{'2018-01-01': {'yandex': {'cpc': 100}}}\n"
     ]
    }
   ],
   "source": [
    "# Задание 6\n",
    "# Напишите функцию, преобразующую произвольный список вида ['2018-01-01', 'yandex', 'cpc', 100] \n",
    "#  в словарь {'2018-01-01': {'yandex': {'cpc': 100}}}\n",
    "\n",
    "def list_to_dict_func(list_x):\n",
    "\n",
    "    dict_y = {}\n",
    "\n",
    "    # Инициализируем словарь dict_y последним элементом (= 100)\n",
    "    dict_y = list_x[-1]\n",
    "\n",
    "    # Удаляем из списка list_x последний элемент\n",
    "    list_x.pop(-1)\n",
    "\n",
    "    # Переворачиваем список list_x заизнанку:  list_x[::-1] => ['cpc', 'yandex', '2018-01-01']\n",
    "    # Двигаемся слева-направо по перевернутому списку, в каждом цикле формируем элемент словаря dict_y {key:value}\n",
    "    for i in list_x[::-1]:\n",
    "        dict_y = {i:dict_y}\n",
    "                 \n",
    "    return dict_y\n",
    "\n",
    "\n",
    "data = ['2018-01-01', 'yandex', 'cpc', 100]\n",
    "print( list_to_dict_func (data) )\n"
   ]
  },
  {
   "cell_type": "code",
   "execution_count": null,
   "metadata": {},
   "outputs": [],
   "source": []
  }
 ],
 "metadata": {
  "kernelspec": {
   "display_name": "Python 3",
   "language": "python",
   "name": "python3"
  },
  "language_info": {
   "codemirror_mode": {
    "name": "ipython",
    "version": 3
   },
   "file_extension": ".py",
   "mimetype": "text/x-python",
   "name": "python",
   "nbconvert_exporter": "python",
   "pygments_lexer": "ipython3",
   "version": "3.7.1"
  }
 },
 "nbformat": 4,
 "nbformat_minor": 2
}
